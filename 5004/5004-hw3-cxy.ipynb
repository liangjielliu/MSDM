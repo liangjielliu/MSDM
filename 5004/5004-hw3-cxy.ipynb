{
 "cells": [
  {
   "cell_type": "markdown",
   "metadata": {},
   "source": [
    "# Q1\n",
    "(a)(b)"
   ]
  },
  {
   "cell_type": "markdown",
   "metadata": {},
   "source": [
    "1. **Normalization Constant $A$**  \n",
    "   We require  \n",
    "   $ \\int_{-\\frac{\\pi}{2}}^{\\frac{\\pi}{2}} A\\cos x\\,\\mathrm{d}x = 1, $  \n",
    "   which gives  \n",
    "   $ A = \\frac12. $\n",
    "\n",
    "2. **Cumulative Distribution Function (CDF)**  \n",
    "   For $x\\in[-\\frac{\\pi}{2},\\frac{\\pi}{2}]$,  \n",
    "   $ F(x) = \\int_{-\\frac{\\pi}{2}}^{x} \\tfrac12\\cos t\\,\\mathrm{d}t = \\tfrac{\\sin x + 1}{2}. $\n",
    "\n",
    "3. **Inverse–Transform Sampling**  \n",
    "   Let $u\\sim U(0,1)$. Setting  \n",
    "   $ F(x)=u \\Longrightarrow \\tfrac{\\sin x + 1}{2}=u $  \n",
    "   yields  \n",
    "   $ \\sin x = 2u - 1 \\Longrightarrow x = \\arcsin(2u - 1). $\n"
   ]
  },
  {
   "cell_type": "code",
   "execution_count": 3,
   "metadata": {},
   "outputs": [
    {
     "data": {
      "image/png": "[encoded data removed]",
      "text/plain": [
       "<Figure size 576x360 with 1 Axes>"
      ]
     },
     "metadata": {
      "needs_background": "light"
     },
     "output_type": "display_data"
    }
   ],
   "source": [
    "import numpy as np\n",
    "import matplotlib.pyplot as plt\n",
    "\n",
    "# 1. Normalization constant for PDF P(x) = A * cos(x) on [-pi/2, +pi/2]\n",
    "A = 0.5\n",
    "\n",
    "# 2. Number of samples\n",
    "n_samples = 10000\n",
    "\n",
    "# 3. Generate uniform random numbers U(0,1)\n",
    "u = np.random.rand(n_samples)\n",
    "\n",
    "# 4. Apply the inverse–transform: x = arcsin(2u - 1)\n",
    "x = np.arcsin(2 * u - 1)\n",
    "\n",
    "# 5. Plot histogram of the samples\n",
    "plt.figure(figsize=(8, 5))\n",
    "plt.hist(x,\n",
    "         bins=50,\n",
    "         density=True,\n",
    "         alpha=0.6,\n",
    "         edgecolor='black',\n",
    "         label='Sampled')\n",
    "\n",
    "# 6. Overlay the theoretical PDF P(x) = (1/2) * cos(x)\n",
    "x_pdf = np.linspace(-np.pi/2, np.pi/2, 300)\n",
    "pdf = A * np.cos(x_pdf)\n",
    "plt.plot(x_pdf, pdf, 'r-', linewidth=2, label='Theoretical PDF')\n",
    "\n",
    "# 7. Labels and title\n",
    "plt.xlabel('x')\n",
    "plt.ylabel('Density')\n",
    "plt.title('Histogram of Samples vs. Theoretical PDF')\n",
    "plt.legend()\n",
    "plt.grid(True)\n",
    "plt.show()\n"
   ]
  },
  {
   "cell_type": "markdown",
   "metadata": {},
   "source": [
    "(c)"
   ]
  },
  {
   "cell_type": "markdown",
   "metadata": {},
   "source": [
    "1. **Cumulative Distribution Function (CDF)**  \n",
    "   We have  \n",
    "   $F(x) = \\int_{-1}^{x} \\tfrac{3}{5}\\bigl(1 - \\tfrac{t^2}{2}\\bigr)\\,dt\n",
    "     = \\tfrac{3}{5}\\Bigl(t - \\tfrac{t^3}{6}\\Bigr)\\Big|_{-1}^{x}\n",
    "     = \\tfrac{3}{5}\\Bigl(x - \\tfrac{x^3}{6} + \\tfrac{7}{6}\\Bigr).$\n",
    "\n",
    "2. **Inverse–Transform Requirement**  \n",
    "   To use the transformation method, we must solve  \n",
    "   $F(x) = u,\\quad u\\sim U(0,1),$  \n",
    "   which leads to the cubic equation  \n",
    "   $x - \\tfrac{x^3}{6} + \\tfrac{7}{6} = \\tfrac{5}{3}\\,u.$\n",
    "\n",
    "3. **Why It Fails Without Cubic Root Formulas**  \n",
    "   This is a general cubic in $x$, and obtaining an explicit $x = F^{-1}(u)$ requires the cubic formula. Without knowledge of how to solve a general cubic, we cannot express the inverse in closed form, so the transformation method does not work.\n"
   ]
  },
  {
   "cell_type": "markdown",
   "metadata": {},
   "source": [
    "（d)"
   ]
  },
  {
   "cell_type": "markdown",
   "metadata": {},
   "source": [
    "1. **Comparison Function**  \n",
    "   We choose  \n",
    "   $$f(x) = \\frac{3}{5}\\cos x,$$  \n",
    "   since  \n",
    "   $$f(x)\\ge P(x)=\\frac{3}{5}\\Bigl(1-\\frac{x^2}{2}\\Bigr)\\quad\\text{for }x\\in[-1,1].$$\n",
    "\n",
    "2. **Normalization and Proposal PDF**  \n",
    "   The normalizing constant is  \n",
    "   $$\n",
    "     C = \\int_{-1}^{1} f(x)\\,\\mathrm{d}x\n",
    "       = \\int_{-1}^{1} \\frac{3}{5}\\cos x\\,\\mathrm{d}x\n",
    "       = \\frac{3}{5}[\\sin x]_{-1}^{1}\n",
    "       = \\frac{6}{5}\\sin 1.\n",
    "   $$  \n",
    "   Hence the proposal PDF is  \n",
    "   $$\n",
    "     g(x) = \\frac{f(x)}{C}\n",
    "          = \\frac{\\cos x}{2\\sin 1},\n",
    "     \\quad x\\in[-1,1].\n",
    "   $$\n",
    "\n",
    "3. **Acceptance Probability**  \n",
    "   Each candidate $x\\sim g(x)$ is accepted with probability  \n",
    "   $$\n",
    "     \\frac{P(x)}{f(x)}\n",
    "     = \\frac{\\frac{3}{5}\\bigl(1-\\frac{x^2}{2}\\bigr)}{\\frac{3}{5}\\cos x}\n",
    "     = \\frac{1-\\frac{x^2}{2}}{\\cos x}.\n",
    "   $$\n",
    "\n",
    "4. **Theoretical Acceptance Rate**  \n",
    "   The overall acceptance rate is  \n",
    "   $$\n",
    "     \\frac{\\displaystyle\\int_{-1}^{1}P(x)\\,\\mathrm{d}x}\n",
    "          {\\displaystyle\\int_{-1}^{1}f(x)\\,\\mathrm{d}x}\n",
    "     = \\frac{1}{C}\n",
    "     = \\frac{5}{6\\sin 1}\n",
    "     \\approx 0.9903.\n",
    "   $$\n",
    "\n",
    "5. **Simulation**  \n",
    "   With $N=10000$ trials, the observed acceptance fraction should be close to  \n",
    "   $$\\frac{5}{6\\sin 1}\\approx 0.9903.$$\n"
   ]
  },
  {
   "cell_type": "code",
   "execution_count": 4,
   "metadata": {},
   "outputs": [
    {
     "data": {
      "image/png": "[encoded data removed]",
      "text/plain": [
       "<Figure size 576x360 with 1 Axes>"
      ]
     },
     "metadata": {
      "needs_background": "light"
     },
     "output_type": "display_data"
    },
    {
     "name": "stdout",
     "output_type": "stream",
     "text": [
      "Total proposals: 10095\n",
      "Number accepted:  10000\n",
      "Fraction accepted: 0.9906\n",
      "Area ratio \\(\\int P/\\int f\\): 0.9903\n"
     ]
    }
   ],
   "source": [
    "import numpy as np\n",
    "import matplotlib.pyplot as plt\n",
    "\n",
    "# Target PDF and envelope f(x)\n",
    "def P(x):\n",
    "    return (3/5) * (1 - x**2/2)\n",
    "\n",
    "def f(x):\n",
    "    return (3/5) * np.cos(x)\n",
    "\n",
    "# Parameters\n",
    "N_accept = 10000\n",
    "sin1 = np.sin(1.0)\n",
    "C = (6/5) * sin1          # ∫_{-1}^1 f(x) dx = (6/5) sin(1)\n",
    "area_ratio = 1.0 / C      # ∫P(x)/∫f(x)\n",
    "\n",
    "# Rejection sampling from proposal g(x)=f(x)/C\n",
    "accepted = []\n",
    "n_proposals = 0\n",
    "\n",
    "while len(accepted) < N_accept:\n",
    "    # batch size: try to generate as many as needed\n",
    "    batch = N_accept - len(accepted)\n",
    "    # --- sample from g(x) via inverse CDF of cos(x)/(2 sin1) ---\n",
    "    u1 = np.random.rand(batch)\n",
    "    x_prop = np.arcsin(sin1 * (2*u1 - 1))\n",
    "    # --- acceptance test ---\n",
    "    u2 = np.random.rand(batch)\n",
    "    accept = u2 <= (P(x_prop) / f(x_prop))\n",
    "    accepted.extend(x_prop[accept].tolist())\n",
    "    n_proposals += batch\n",
    "\n",
    "# truncate to exactly N_accept\n",
    "samples = np.array(accepted[:N_accept])\n",
    "\n",
    "# Compute acceptance fraction\n",
    "frac_accepted = N_accept / n_proposals\n",
    "\n",
    "# 1. Histogram + overlay of theoretical P(x)\n",
    "plt.figure(figsize=(8,5))\n",
    "plt.hist(samples, bins=50, density=True, alpha=0.6, edgecolor='k',\n",
    "         label='Rejection Samples')\n",
    "x_vals = np.linspace(-1, 1, 300)\n",
    "plt.plot(x_vals, P(x_vals), 'r-', lw=2, label='True $P(x)$')\n",
    "plt.xlabel('$x$')\n",
    "plt.ylabel('Density')\n",
    "plt.title('Rejection‐Sampled Deviates vs. Theoretical PDF')\n",
    "plt.legend()\n",
    "plt.grid(True)\n",
    "plt.show()\n",
    "\n",
    "# 2. Print results\n",
    "print(f\"Total proposals: {n_proposals}\")\n",
    "print(f\"Number accepted:  {N_accept}\")\n",
    "print(f\"Fraction accepted: {frac_accepted:.4f}\")\n",
    "print(f\"Area ratio \\\\(\\\\int P/\\\\int f\\\\): {area_ratio:.4f}\")\n"
   ]
  },
  {
   "cell_type": "markdown",
   "metadata": {},
   "source": [
    "Conclusion: The observed acceptance fraction is indeed very close to the theoretical area‐ratio, as expected."
   ]
  },
  {
   "cell_type": "markdown",
   "metadata": {},
   "source": [
    "# Q2\n",
    "(a)"
   ]
  },
  {
   "cell_type": "markdown",
   "metadata": {},
   "source": [
    "Let\n",
    "$$\n",
    "x = \\tan z,\\quad z\\in\\bigl(-\\tfrac{\\pi}{2},\\tfrac{\\pi}{2}\\bigr).\n",
    "$$\n",
    "Then\n",
    "$$\n",
    "dx = \\sec^2 z\\,dz.\n",
    "$$\n",
    "Hence\n",
    "$$\n",
    "I = \\int_{-\\infty}^\\infty e^{-x^4}\\,dx\n",
    "  = \\int_{-\\tfrac{\\pi}{2}}^{\\tfrac{\\pi}{2}} e^{-\\tan^4 z}\\,\\sec^2 z\\,dz.\n",
    "$$\n",
    "So\n",
    "$$\n",
    "g(z) = e^{-\\tan^4 z}\\,\\sec^2 z,\\quad a=-\\tfrac{\\pi}{2},\\;b=\\tfrac{\\pi}{2}.\n",
    "$$\n",
    "As $z\\to\\pm\\tfrac{\\pi}{2}$, let $t=\\tfrac{\\pi}{2}-|z|$, then $\\tan z\\sim1/t$, $\\sec^2 z\\sim1/t^2$, so\n",
    "$$\n",
    "g(z)\\sim\\frac{e^{-1/t^4}}{t^2}\\to0.\n",
    "$$\n",
    "Therefore\n",
    "$$\n",
    "\\lim_{z\\to a^+}g(z)=0,\\quad\\lim_{z\\to b^-}g(z)=0.\n",
    "$$\n"
   ]
  },
  {
   "cell_type": "markdown",
   "metadata": {},
   "source": [
    "（b)"
   ]
  },
  {
   "cell_type": "code",
   "execution_count": 5,
   "metadata": {},
   "outputs": [
    {
     "name": "stdout",
     "output_type": "stream",
     "text": [
      "Integral ≈ 1.81280495\n",
      "Number of panels used: 243\n",
      "Final relative error: 3.65e-12\n"
     ]
    }
   ],
   "source": [
    "import numpy as np\n",
    "\n",
    "# Define the integrand g(z)\n",
    "def g(z):\n",
    "    return np.exp(-np.tan(z)**4) * (1 / np.cos(z)**2)\n",
    "\n",
    "# Composite mid-point rule\n",
    "def midpoint_rule(f, a, b, N):\n",
    "    h = (b - a) / N\n",
    "    mid = a + (np.arange(N) + 0.5) * h\n",
    "    return h * np.sum(f(mid))\n",
    "\n",
    "# Adaptive integration using tripling\n",
    "def integrate_adaptive(f, a, b, tol=1e-6, max_iter=10):\n",
    "    N = 1\n",
    "    I_N = midpoint_rule(f, a, b, N)\n",
    "    \n",
    "    for i in range(max_iter):\n",
    "        N *= 3\n",
    "        I_3N = midpoint_rule(f, a, b, N)\n",
    "        rel_err = abs(I_3N - I_N) / abs(I_3N)\n",
    "        if rel_err <= tol:\n",
    "            return I_3N, N, rel_err\n",
    "        I_N = I_3N\n",
    "    \n",
    "    # 如果迭代未收敛，返回最后一次结果\n",
    "    return I_3N, N, rel_err\n",
    "\n",
    "# Integration limits\n",
    "a = -0.5 * np.pi\n",
    "b =  0.5 * np.pi\n",
    "\n",
    "# Compute the integral\n",
    "result, panels, error = integrate_adaptive(g, a, b, tol=1e-6)\n",
    "\n",
    "print(f\"Integral ≈ {result:.8f}\")\n",
    "print(f\"Number of panels used: {panels}\")\n",
    "print(f\"Final relative error: {error:.2e}\")\n"
   ]
  },
  {
   "cell_type": "markdown",
   "metadata": {},
   "source": [
    "（c)"
   ]
  },
  {
   "cell_type": "code",
   "execution_count": 6,
   "metadata": {},
   "outputs": [
    {
     "name": "stdout",
     "output_type": "stream",
     "text": [
      "Integral ≈ 1.81280495\n",
      "Levels used: 7\n",
      "Final relative error: 6.90e-08\n"
     ]
    }
   ],
   "source": [
    "import numpy as np\n",
    "\n",
    "# 1) 被积函数 g(z)\n",
    "def g(z):\n",
    "    return np.exp(-np.tan(z)**4) * (1 / np.cos(z)**2)\n",
    "\n",
    "# 2) 复合中点法\n",
    "def midpoint_rule(f, a, b, N):\n",
    "    h = (b - a) / N\n",
    "    midpoints = a + (np.arange(N) + 0.5) * h\n",
    "    return h * np.sum(f(midpoints))\n",
    "\n",
    "# 3) 基于中点法 + 三倍细分 的 Romberg 积分\n",
    "def romberg_midpoint_triple(f, a, b, tol=1e-6, max_levels=10):\n",
    "    R = []  # 存放 Romberg 表格，各行长度依次增大\n",
    "    for i in range(max_levels):\n",
    "        N = 3**i\n",
    "        # 第一列：复合中点法\n",
    "        row = [midpoint_rule(f, a, b, N)]\n",
    "        # Richardson 外推\n",
    "        for j in range(1, i+1):\n",
    "            factor = 3**(2*j)\n",
    "            Rij = (factor * row[j-1] - R[i-1][j-1]) / (factor - 1)\n",
    "            row.append(Rij)\n",
    "        R.append(row)\n",
    "        # 误差估计（对角线收敛）\n",
    "        if i > 0:\n",
    "            err = abs(R[i][i] - R[i-1][i-1]) / abs(R[i][i])\n",
    "            if err <= tol:\n",
    "                return R[i][i], i+1, err\n",
    "    # 若未在 max_levels 内收敛，则返回最后结果\n",
    "    return R[-1][-1], max_levels, err\n",
    "\n",
    "# 4) 执行积分\n",
    "a, b = -0.5 * np.pi, 0.5 * np.pi\n",
    "result, levels_used, final_err = romberg_midpoint_triple(g, a, b, tol=1e-6)\n",
    "\n",
    "print(f\"Integral ≈ {result:.8f}\")\n",
    "print(f\"Levels used: {levels_used}\")\n",
    "print(f\"Final relative error: {final_err:.2e}\")\n"
   ]
  },
  {
   "cell_type": "markdown",
   "metadata": {},
   "source": [
    "（d)"
   ]
  },
  {
   "cell_type": "code",
   "execution_count": 7,
   "metadata": {},
   "outputs": [
    {
     "name": "stdout",
     "output_type": "stream",
     "text": [
      "Integral ≈ 1.81280495\n",
      "Panels used:     128\n",
      "Final rel. err:  3.00e-10\n"
     ]
    }
   ],
   "source": [
    "import numpy as np\n",
    "\n",
    "# 被积函数\n",
    "def g(z):\n",
    "    return np.exp(-np.tan(z)**4) / np.cos(z)**2\n",
    "\n",
    "# 复合梯形公式\n",
    "def trapezoidal_rule(f, a, b, N):\n",
    "    h = (b - a) / N\n",
    "    x = np.linspace(a, b, N+1)\n",
    "    y = f(x)\n",
    "    return h * (0.5*y[0] + y[1:-1].sum() + 0.5*y[-1])\n",
    "\n",
    "# 加倍细分 + 误差估计\n",
    "def integrate_trap_doubling(f, a, b, tol=1e-6, max_iters=20):\n",
    "    N = 1\n",
    "    T_prev = trapezoidal_rule(f, a, b, N)\n",
    "    for _ in range(max_iters):\n",
    "        N *= 2\n",
    "        T_curr = trapezoidal_rule(f, a, b, N)\n",
    "        rel_err = abs(T_curr - T_prev) / abs(T_curr)\n",
    "        if rel_err <= tol:\n",
    "            return T_curr, N, rel_err\n",
    "        T_prev = T_curr\n",
    "    return T_curr, N, rel_err\n",
    "\n",
    "# 设置积分区间\n",
    "a, b = -0.5 * np.pi, 0.5 * np.pi\n",
    "\n",
    "# 计算积分\n",
    "result, panels, error = integrate_trap_doubling(g, a, b, tol=1e-6)\n",
    "\n",
    "print(f\"Integral ≈ {result:.8f}\")\n",
    "print(f\"Panels used:     {panels}\")\n",
    "print(f\"Final rel. err:  {error:.2e}\")\n"
   ]
  },
  {
   "cell_type": "markdown",
   "metadata": {},
   "source": [
    "（e)"
   ]
  },
  {
   "cell_type": "code",
   "execution_count": 8,
   "metadata": {},
   "outputs": [
    {
     "name": "stdout",
     "output_type": "stream",
     "text": [
      "Integral ≈ 1.81280495\n",
      "Planes (n) used: 128\n",
      "Final relative error: 2.54e-09\n"
     ]
    }
   ],
   "source": [
    "import numpy as np\n",
    "from numpy.polynomial.legendre import leggauss\n",
    "\n",
    "# 1) 被积函数 g(z)（同前）\n",
    "def g(z):\n",
    "    return np.exp(-np.tan(z)**4) / np.cos(z)**2\n",
    "\n",
    "# 2) Gaussian Quadrature over [a,b] via n-point Gauss–Legendre\n",
    "def gaussian_quad(f, a, b, n):\n",
    "    # nodes and weights on [-1,1]\n",
    "    t, w = leggauss(n)\n",
    "    # map to [a,b]\n",
    "    x = 0.5*(b + a) + 0.5*(b - a)*t\n",
    "    return 0.5*(b - a) * np.dot(w, f(x))\n",
    "\n",
    "# 3) 自适应增加节点直到满足相对误差 tol\n",
    "def integrate_gauss(f, a, b, tol=1e-6, max_n=1024):\n",
    "    n = 4\n",
    "    I_old = gaussian_quad(f, a, b, n)\n",
    "    while n <= max_n:\n",
    "        n *= 2\n",
    "        I_new = gaussian_quad(f, a, b, n)\n",
    "        rel_err = abs(I_new - I_old) / abs(I_new)\n",
    "        if rel_err <= tol:\n",
    "            return I_new, n, rel_err\n",
    "        I_old = I_new\n",
    "    # 若达到 max_n 仍未收敛，则返回当前结果\n",
    "    return I_new, n, rel_err\n",
    "\n",
    "# 4) 执行积分\n",
    "a, b = -0.5 * np.pi, 0.5 * np.pi\n",
    "result, nodes_used, final_err = integrate_gauss(g, a, b, tol=1e-6)\n",
    "\n",
    "print(f\"Integral ≈ {result:.8f}\")\n",
    "print(f\"Planes (n) used: {nodes_used}\")\n",
    "print(f\"Final relative error: {final_err:.2e}\")\n"
   ]
  },
  {
   "cell_type": "markdown",
   "metadata": {},
   "source": [
    "（f)"
   ]
  },
  {
   "cell_type": "code",
   "execution_count": 9,
   "metadata": {},
   "outputs": [
    {
     "name": "stdout",
     "output_type": "stream",
     "text": [
      "I ≈ 5.048008 ± 0.001578  (1σ)\n"
     ]
    }
   ],
   "source": [
    "import numpy as np\n",
    "from math import gamma, sqrt, pi\n",
    "\n",
    "# 1) 常数 Z = ∫ e^{-x^4} dx on R\n",
    "Z1 = 0.5 * gamma(0.25)       # = ∫_{-∞}^{∞} e^{-x^4} dx\n",
    "Z4 = Z1**4                   # for 4 dims\n",
    "\n",
    "# 2) 一维目标边际 f(x) ∝ exp(-x^4)，用 N(0,1) 提议分布接受–拒绝抽样\n",
    "M = sqrt(2*pi) * np.exp(1/16)\n",
    "\n",
    "def sample_x1(n):\n",
    "    \"\"\"Draw n samples from density ∝ exp(-x^4) by rejection sampling.\"\"\"\n",
    "    samples = []\n",
    "    while len(samples) < n:\n",
    "        m = int((n - len(samples)) * 1.2)  # 多试一点以加速\n",
    "        x_prop = np.random.randn(m)       # N(0,1) 提议\n",
    "        # acceptance probability\n",
    "        log_r = -x_prop**4 + 0.5*x_prop**2 - 1/16\n",
    "        u = np.random.rand(m)\n",
    "        keep = u < np.exp(log_r)\n",
    "        samples.extend(x_prop[keep].tolist())\n",
    "    return np.array(samples[:n])\n",
    "\n",
    "# 3) Monte Carlo 主流程\n",
    "N = 10**6\n",
    "# 每个维度独立抽样\n",
    "X1 = sample_x1(N)\n",
    "X2 = sample_x1(N)\n",
    "X3 = sample_x1(N)\n",
    "X4 = sample_x1(N)\n",
    "\n",
    "# 计算 h = 1/(1 + sum xi^2)\n",
    "r2 = X1**2 + X2**2 + X3**2 + X4**2\n",
    "h  = 1.0 / (1.0 + r2)\n",
    "\n",
    "# 期望和标准误差\n",
    "h_mean = h.mean()\n",
    "h_std  = h.std(ddof=1)\n",
    "\n",
    "I_est   = Z4 * h_mean\n",
    "err_est = Z4 * h_std / np.sqrt(N)\n",
    "\n",
    "print(f\"I ≈ {I_est:.6f} ± {err_est:.6f}  (1σ)\")\n"
   ]
  },
  {
   "cell_type": "code",
   "execution_count": null,
   "metadata": {},
   "outputs": [],
   "source": []
  }
 ],
 "metadata": {
  "kernelspec": {
   "display_name": "Python 3",
   "language": "python",
   "name": "python3"
  },
  "language_info": {
   "codemirror_mode": {
    "name": "ipython",
    "version": 3
   },
   "file_extension": ".py",
   "mimetype": "text/x-python",
   "name": "python",
   "nbconvert_exporter": "python",
   "pygments_lexer": "ipython3",
   "version": "3.7.4"
  }
 },
 "nbformat": 4,
 "nbformat_minor": 2
}
