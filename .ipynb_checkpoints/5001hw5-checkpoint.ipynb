{
 "cells": [
  {
   "cell_type": "code",
   "execution_count": 1,
   "id": "348a0575-3094-4e8c-9d58-5e0146e679ea",
   "metadata": {},
   "outputs": [
    {
     "name": "stdout",
     "output_type": "stream",
     "text": [
      "Added |Φ+⟩ Circuit to bell_states.pdf\n",
      "Added |Φ−⟩ Circuit to bell_states.pdf\n",
      "Added |Ψ+⟩ Circuit to bell_states.pdf\n",
      "Added |Ψ−⟩ Circuit to bell_states.pdf\n",
      "All Bell states circuits have been saved to 'bell_states.pdf'!\n"
     ]
    }
   ],
   "source": [
    "from qiskit import QuantumCircuit\n",
    "from qiskit.visualization import circuit_drawer\n",
    "from matplotlib.backends.backend_pdf import PdfPages\n",
    "import matplotlib.pyplot as plt\n",
    "\n",
    "# 创建 |Φ+⟩ 的电路\n",
    "def generate_phi_plus():\n",
    "    qc = QuantumCircuit(2, 2)  # 创建两个量子比特和两个经典比特的电路\n",
    "    qc.h(0)  # 对第一个量子比特应用 Hadamard 门\n",
    "    qc.cx(0, 1)  # 对第一个比特控制，第二个比特目标应用 CNOT 门\n",
    "    qc.measure([0, 1], [0, 1])  # 添加测量门，将量子比特测量到经典比特\n",
    "    return qc\n",
    "\n",
    "# 创建 |Φ−⟩ 的电路\n",
    "def generate_phi_minus():\n",
    "    qc = QuantumCircuit(2, 2)\n",
    "    qc.h(0)\n",
    "    qc.cx(0, 1)\n",
    "    qc.z(1)  # 在第二个量子比特上应用 Z 门\n",
    "    qc.measure([0, 1], [0, 1])\n",
    "    return qc\n",
    "\n",
    "# 创建 |Ψ+⟩ 的电路\n",
    "def generate_psi_plus():\n",
    "    qc = QuantumCircuit(2, 2)\n",
    "    qc.h(0)\n",
    "    qc.cx(0, 1)\n",
    "    qc.x(1)  # 在第二个量子比特上应用 X 门\n",
    "    qc.measure([0, 1], [0, 1])\n",
    "    return qc\n",
    "\n",
    "# 创建 |Ψ−⟩ 的电路\n",
    "def generate_psi_minus():\n",
    "    qc = QuantumCircuit(2, 2)\n",
    "    qc.h(0)\n",
    "    qc.cx(0, 1)\n",
    "    qc.x(1)\n",
    "    qc.z(1)  # 在第二个量子比特上应用 Z 门\n",
    "    qc.measure([0, 1], [0, 1])\n",
    "    return qc\n",
    "\n",
    "# 将电路图保存到一个 PDF 文件中\n",
    "def save_all_circuits_to_one_pdf(circuits, filename):\n",
    "    with PdfPages(filename) as pdf:\n",
    "        for title, qc in circuits:\n",
    "            # 绘制电路图\n",
    "            fig, ax = plt.subplots(figsize=(8, 4))  # 创建 Matplotlib 图\n",
    "            qc.draw(output='mpl', ax=ax)  # 在 ax 上绘制电路\n",
    "            ax.set_title(title, fontsize=14)  # 设置标题\n",
    "            pdf.savefig(fig)  # 保存当前图到 PDF 文件\n",
    "            plt.close(fig)  # 关闭当前图，释放内存\n",
    "            print(f\"Added {title} to {filename}\")\n",
    "\n",
    "# 创建所有贝尔态电路\n",
    "circuits = [\n",
    "    (\"|Φ+⟩ Circuit\", generate_phi_plus()),\n",
    "    (\"|Φ−⟩ Circuit\", generate_phi_minus()),\n",
    "    (\"|Ψ+⟩ Circuit\", generate_psi_plus()),\n",
    "    (\"|Ψ−⟩ Circuit\", generate_psi_minus()),\n",
    "]\n",
    "\n",
    "# 保存所有电路到一个 PDF 文件中\n",
    "save_all_circuits_to_one_pdf(circuits, \"bell_states.pdf\")\n",
    "\n",
    "print(\"All Bell states circuits have been saved to 'bell_states.pdf'!\")"
   ]
  },
  {
   "cell_type": "code",
   "execution_count": null,
   "id": "91715e89-6462-4761-b5db-8f0766c46f66",
   "metadata": {},
   "outputs": [],
   "source": []
  }
 ],
 "metadata": {
  "kernelspec": {
   "display_name": "Python 3 (ipykernel)",
   "language": "python",
   "name": "python3"
  },
  "language_info": {
   "codemirror_mode": {
    "name": "ipython",
    "version": 3
   },
   "file_extension": ".py",
   "mimetype": "text/x-python",
   "name": "python",
   "nbconvert_exporter": "python",
   "pygments_lexer": "ipython3",
   "version": "3.9.6"
  }
 },
 "nbformat": 4,
 "nbformat_minor": 5
}
