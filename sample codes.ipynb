{
 "cells": [
  {
   "cell_type": "code",
   "execution_count": 2,
   "id": "f75e8f6e-a38c-4045-8162-a7c44671c270",
   "metadata": {},
   "outputs": [],
   "source": [
    "from openai import OpenAI\n",
    "\n",
    "XAI_API_KEY=\"??\"\n",
    "client = OpenAI(\n",
    "    api_key=XAI_API_KEY,\n",
    "    base_url=\"https://api.x.ai/v1\",\n",
    ")\n",
    "\n",
    "chat_history = []\n",
    "\n",
    "def chat_with_(user_input):\n",
    "    chat_history.append({\"role\": \"user\", \"content\": user_input})\n",
    "    try:\n",
    "        completion = client.chat.completions.create(\n",
    "            model=\"grok-2-1212\",\n",
    "            messages=chat_history,\n",
    "        )\n",
    "        assistant_message = completion.choices[0].message.content\n",
    "        chat_history.append({\"role\": \"assistant\", \"content\": assistant_message})\n",
    "        return assistant_message\n",
    "    except Exception as e:\n",
    "        return f\"API 调用失败：{e}\""
   ]
  },
  {
   "cell_type": "code",
   "execution_count": null,
   "id": "dafafab9-b948-4e5a-9fc9-1b9f040f07ae",
   "metadata": {},
   "outputs": [
    {
     "name": "stdin",
     "output_type": "stream",
     "text": [
      " hi\n"
     ]
    },
    {
     "name": "stdout",
     "output_type": "stream",
     "text": [
      "API 调用失败：Error code: 429 - {'code': 'Some resource has been exhausted', 'error': 'Your team 3006876f-b0de-4f2d-9c42-d761845df5b4 has either used all available credits or reached its monthly spending limit. To continue making API requests, please purchase more credits or raise your spending limit.'}\n"
     ]
    }
   ],
   "source": [
    "while True:\n",
    "    user_input = input()\n",
    "    if user_input.lower() == \"exit\":\n",
    "        print(\"Goodbye!\")\n",
    "        break\n",
    "    _response = chat_with_(user_input)\n",
    "    print(f\"{_response}\")"
   ]
  },
  {
   "cell_type": "code",
   "execution_count": 1,
   "id": "ca7bd3b5",
   "metadata": {},
   "outputs": [
    {
     "name": "stdin",
     "output_type": "stream",
     "text": [
      " hi\n"
     ]
    }
   ],
   "source": [
    "user_input = input()"
   ]
  },
  {
   "cell_type": "code",
   "execution_count": null,
   "id": "16a9ceef-a031-4943-8569-9d58d396008e",
   "metadata": {},
   "outputs": [],
   "source": []
  }
 ],
 "metadata": {
  "kernelspec": {
   "display_name": "Python 3 (ipykernel)",
   "language": "python",
   "name": "python3"
  },
  "language_info": {
   "codemirror_mode": {
    "name": "ipython",
    "version": 3
   },
   "file_extension": ".py",
   "mimetype": "text/x-python",
   "name": "python",
   "nbconvert_exporter": "python",
   "pygments_lexer": "ipython3",
   "version": "3.9.6"
  }
 },
 "nbformat": 4,
 "nbformat_minor": 5
}
