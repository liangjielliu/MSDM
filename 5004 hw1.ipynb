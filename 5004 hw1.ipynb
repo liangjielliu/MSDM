{
 "cells": [
  {
   "cell_type": "code",
   "execution_count": 1,
   "metadata": {},
   "outputs": [
    {
     "name": "stdout",
     "output_type": "stream",
     "text": [
      "Iteration 1, f(x) = 0.28514, f'(x) = -2.23442, x = 0.62761\n",
      "Iteration 2, f(x) = 0.06612, f'(x) = -1.15436, x = 0.68489\n",
      "Iteration 3, f(x) = 0.01606, f'(x) = -0.58513, x = 0.71233\n",
      "Iteration 4, f(x) = 0.00396, f'(x) = -0.29442, x = 0.72579\n",
      "Iteration 5, f(x) = 0.00098, f'(x) = -0.14766, x = 0.73246\n",
      "Iteration 6, f(x) = 0.00025, f'(x) = -0.07394, x = 0.73578\n",
      "Iteration 7, f(x) = 0.00006, f'(x) = -0.03700, x = 0.73743\n",
      "Iteration 8, f(x) = 0.00002, f'(x) = -0.01850, x = 0.73826\n",
      "Iteration 9, f(x) = 0.00000, f'(x) = -0.00925, x = 0.73867\n",
      "Iteration 10, f(x) = 0.00000, f'(x) = -0.00463, x = 0.73888\n",
      "Iteration 11, f(x) = 0.00000, f'(x) = -0.00231, x = 0.73898\n",
      "Iteration 12, f(x) = 0.00000, f'(x) = -0.00116, x = 0.73903\n",
      "Iteration 13, f(x) = 0.00000, f'(x) = -0.00058, x = 0.73906\n",
      "Iteration 14, f(x) = 0.00000, f'(x) = -0.00029, x = 0.73907\n",
      "Iteration 15, f(x) = 0.00000, f'(x) = -0.00014, x = 0.73908\n",
      "Iteration 16, f(x) = 0.00000, f'(x) = -0.00007, x = 0.73908\n",
      "Iteration 17, f(x) = 0.00000, f'(x) = -0.00004, x = 0.73908\n",
      "牛顿法求解的根为: 0.7390835197077827\n",
      "Iteration 1, f(x) = 0.10155, x = 0.65532\n",
      "Iteration 2, f(x) = 0.03783, x = 0.68816\n",
      "Iteration 3, f(x) = 0.01420, x = 0.70789\n",
      "Iteration 4, f(x) = 0.00538, x = 0.71991\n",
      "Iteration 5, f(x) = 0.00204, x = 0.72727\n",
      "Iteration 6, f(x) = 0.00078, x = 0.73180\n",
      "Iteration 7, f(x) = 0.00030, x = 0.73459\n",
      "Iteration 8, f(x) = 0.00011, x = 0.73631\n",
      "Iteration 9, f(x) = 0.00004, x = 0.73737\n",
      "Iteration 10, f(x) = 0.00002, x = 0.73803\n",
      "Iteration 11, f(x) = 0.00001, x = 0.73843\n",
      "Iteration 12, f(x) = 0.00000, x = 0.73868\n",
      "Iteration 13, f(x) = 0.00000, x = 0.73884\n",
      "Iteration 14, f(x) = 0.00000, x = 0.73893\n",
      "Iteration 15, f(x) = 0.00000, x = 0.73899\n",
      "Iteration 16, f(x) = 0.00000, x = 0.73903\n",
      "Iteration 17, f(x) = 0.00000, x = 0.73905\n",
      "Iteration 18, f(x) = 0.00000, x = 0.73906\n",
      "Iteration 19, f(x) = 0.00000, x = 0.73907\n",
      "Iteration 20, f(x) = 0.00000, x = 0.73908\n",
      "Iteration 21, f(x) = 0.00000, x = 0.73908\n",
      "Iteration 22, f(x) = 0.00000, x = 0.73908\n",
      "Iteration 23, f(x) = 0.00000, x = 0.73908\n",
      "割线法求解的根为: 0.7390830999206259\n"
     ]
    }
   ],
   "source": [
    "# 第一题\n",
    "import math\n",
    "\n",
    "# 定义函数 f(x) 和其导数 f'(x)\n",
    "def f(x):\n",
    "    return 1 - 4*x*math.cos(x) + 2*x**2 + math.cos(2*x)\n",
    "\n",
    "def df(x):\n",
    "    return -4*math.cos(x) + 4*x*math.sin(x) + 4*x - 2*math.sin(2*x)\n",
    "\n",
    "# 牛顿法迭代\n",
    "def newton_method(x0, tol=1e-6, max_iter=100):\n",
    "    x = x0\n",
    "    for i in range(max_iter):\n",
    "        fx = f(x)\n",
    "        dfx = df(x)\n",
    "        x_new = x - fx / dfx\n",
    "        if abs(x_new - x) < tol:  # 如果根的精度已达到指定精度，停止迭代\n",
    "            break\n",
    "        x = x_new\n",
    "        print(f\"Iteration {i+1}, f(x) = {fx:.5f}, f'(x) = {dfx:.5f}, x = {x:.5f}\")\n",
    "    return x\n",
    "\n",
    "# 割线法迭代\n",
    "def secant_method(x0, x1, tol=1e-6, max_iter=100):\n",
    "    for i in range(max_iter):\n",
    "        fx0 = f(x0)\n",
    "        fx1 = f(x1)\n",
    "        x_new = x1 - fx1 * (x1 - x0) / (fx1 - fx0)\n",
    "        if abs(x_new - x1) < tol:\n",
    "            break\n",
    "        x0, x1 = x1, x_new\n",
    "        print(f\"Iteration {i+1}, f(x) = {fx1:.5f}, x = {x1:.5f}\")\n",
    "    return x1\n",
    "\n",
    "# 使用牛顿法求解方程\n",
    "x0 = 0.5  # 初始值\n",
    "root_newton = newton_method(x0)\n",
    "print(f\"牛顿法求解的根为: {root_newton}\")\n",
    "\n",
    "# 使用割线法求解方程\n",
    "x1 = 0.6  # 第二个初始值\n",
    "root_secant = secant_method(x0, x1)\n",
    "print(f\"割线法求解的根为: {root_secant}\")"
   ]
  },
  {
   "cell_type": "code",
   "execution_count": 2,
   "metadata": {},
   "outputs": [
    {
     "name": "stdout",
     "output_type": "stream",
     "text": [
      "拟合的二次多项式系数: a2 = -0.01085, a1 = 1.25329, a0 = 0.59658\n",
      "最小二乘误差 E = 0.0000180148\n"
     ]
    }
   ],
   "source": [
    "# 第五题\n",
    "import numpy as np\n",
    "\n",
    "# 给定的数据\n",
    "x = np.array([1.0, 1.1, 1.3, 1.5, 1.9, 2.1])\n",
    "y = np.array([1.84, 1.96, 2.21, 2.45, 2.94, 3.18])\n",
    "\n",
    "# 构造矩阵 A，其中 A 是二次多项式的系数矩阵\n",
    "A = np.vstack([x**2, x, np.ones_like(x)]).T\n",
    "\n",
    "# 使用奇异值分解(SVD)来求解最小二乘问题\n",
    "U, S, Vt = np.linalg.svd(A, full_matrices=False)\n",
    "\n",
    "# 计算最小二乘解\n",
    "theta = np.dot(Vt.T, np.dot(np.linalg.inv(np.diag(S)), np.dot(U.T, y)))\n",
    "\n",
    "# 输出拟合的系数\n",
    "a2, a1, a0 = theta\n",
    "print(f\"拟合的二次多项式系数: a2 = {a2:.5f}, a1 = {a1:.5f}, a0 = {a0:.5f}\")\n",
    "\n",
    "# 使用拟合的多项式进行预测\n",
    "y_fit = a2 * x**2 + a1 * x + a0\n",
    "\n",
    "# 计算最小二乘误差\n",
    "error = np.sum((y - y_fit)**2)\n",
    "print(f\"最小二乘误差 E = {error:.10f}\")"
   ]
  }
 ],
 "metadata": {
  "kernelspec": {
   "display_name": "Python 3",
   "language": "python",
   "name": "python3"
  },
  "language_info": {
   "codemirror_mode": {
    "name": "ipython",
    "version": 3
   },
   "file_extension": ".py",
   "mimetype": "text/x-python",
   "name": "python",
   "nbconvert_exporter": "python",
   "pygments_lexer": "ipython3",
   "version": "3.9.6"
  }
 },
 "nbformat": 4,
 "nbformat_minor": 2
}
