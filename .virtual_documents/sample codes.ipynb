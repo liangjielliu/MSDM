from openai import OpenAI

XAI_API_KEY="??"
client = OpenAI(
    api_key=XAI_API_KEY,
    base_url="https://api.x.ai/v1",
)

chat_history = []

def chat_with_(user_input):
    chat_history.append({"role": "user", "content": user_input})
    try:
        completion = client.chat.completions.create(
            model="grok-2-1212",
            messages=chat_history,
        )
        assistant_message = completion.choices[0].message.content
        chat_history.append({"role": "assistant", "content": assistant_message})
        return assistant_message
    except Exception as e:
        return f"API 调用失败：{e}"


while True:
    user_input = input()
    if user_input.lower() == "exit":
        print("Goodbye!")
        break
    _response = chat_with_(user_input)
    print(f"{_response}")


user_input = input()



