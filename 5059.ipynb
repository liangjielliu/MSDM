{
 "cells": [
  {
   "cell_type": "code",
   "execution_count": 12,
   "metadata": {},
   "outputs": [
    {
     "name": "stdout",
     "output_type": "stream",
     "text": [
      "Min: [ 0.82562213 -2.28528643  3.24284904]\n",
      "Val: -0.7561777543005382\n"
     ]
    }
   ],
   "source": [
    "import numpy as np\n",
    "\n",
    "def fcn(p):\n",
    "    x, y, z = p\n",
    "    return (x-1)**2 + (y+2)**2 + (z-3)**2 + 0.5*(np.sin(x*y) + np.sin(y*z))\n",
    "\n",
    "def nm(fn, smp, a=1.0, b=1.0, g=0.5, iters=1000, tol=1e-5):\n",
    "    s = np.array(smp, dtype=float)\n",
    "    n = len(s) - 1\n",
    "\n",
    "    for _ in range(iters):\n",
    "        vals = np.array([fn(p) for p in s])\n",
    "        idx = np.argsort(vals)\n",
    "        s = s[idx]\n",
    "        vals = vals[idx]\n",
    "\n",
    "        if np.std(vals) < tol:\n",
    "            break\n",
    "\n",
    "        c = np.mean(s[:-1], axis=0)\n",
    "        xr = c + a*(c - s[-1])\n",
    "        fr = fn(xr)\n",
    "\n",
    "        if fr < vals[0]:\n",
    "            xe = c + b*(c - xr)\n",
    "            s[-1] = xe if fn(xe) < fr else xr\n",
    "        elif fr < vals[-2]:\n",
    "            s[-1] = xr\n",
    "        else:\n",
    "            if fr < vals[-1]:\n",
    "                xc = c + g*(xr - c)\n",
    "                s[-1] = xc if fn(xc) <= fr else shrink(s, g)\n",
    "            else:\n",
    "                xcc = c - g*(c - s[-1])\n",
    "                s[-1] = xcc if fn(xcc) < vals[-1] else shrink(s, g)\n",
    "\n",
    "    return s[np.argmin([fn(p) for p in s])]\n",
    "\n",
    "def shrink(s, g):\n",
    "    xb = s[0]\n",
    "    return np.array([xb + g*(p - xb) for p in s])\n",
    "\n",
    "smp = [\n",
    "    [0,0,0],\n",
    "    [1,0,0],\n",
    "    [0,1,0],\n",
    "    [0,0,1]\n",
    "]\n",
    "\n",
    "res = nm(fcn, smp)\n",
    "print(\"Min:\", res)\n",
    "print(\"Val:\", fcn(res))"
   ]
  },
  {
   "cell_type": "code",
   "execution_count": 2,
   "metadata": {},
   "outputs": [
    {
     "name": "stdout",
     "output_type": "stream",
     "text": [
      "Start Temp: 1000.0\n",
      "End Temp: 0.04544535239978074\n",
      "Optimal Position: (420.71, 420.48)\n",
      "Objective Value: -837.93\n"
     ]
    }
   ],
   "source": [
    "import numpy as np\n",
    "\n",
    "# 定义目标函数：Shubert 类似函数\n",
    "def objective(pos):\n",
    "    x, y = pos\n",
    "    return -x * np.sin(np.sqrt(abs(x))) - y * np.sin(np.sqrt(abs(y)))\n",
    "\n",
    "def simulated_annealing_optimize():\n",
    "    # 初始参数设定\n",
    "    initial_temp = 1000.0\n",
    "    final_temp = 1e-6\n",
    "    max_iterations = 10000\n",
    "    cooling_rate = 1000.0\n",
    "    move_radius = 50.0\n",
    "    \n",
    "    # 初始化搜索起点\n",
    "    position = np.random.uniform(-500, 500, size=2)\n",
    "    best_value = objective(position)\n",
    "\n",
    "    temperature = initial_temp\n",
    "    iteration = 0\n",
    "\n",
    "    while temperature > final_temp and iteration < max_iterations:\n",
    "        # 扰动产生新候选点\n",
    "        candidate = position + np.random.uniform(-move_radius, move_radius, size=2)\n",
    "        candidate = np.clip(candidate, -500, 500)\n",
    "        candidate_value = objective(candidate)\n",
    "        \n",
    "        diff = candidate_value - best_value\n",
    "        \n",
    "        # Metropolis准则决定是否接受\n",
    "        if diff < 0 or np.random.rand() < np.exp(-diff / temperature):\n",
    "            position = candidate\n",
    "            best_value = candidate_value\n",
    "        \n",
    "        # 温度下降（指数冷却）\n",
    "        temperature = initial_temp * np.exp(-iteration / cooling_rate)\n",
    "        iteration += 1\n",
    "\n",
    "    print(f\"Start Temp: {initial_temp}\")\n",
    "    print(f\"End Temp: {temperature}\")\n",
    "    return position, best_value\n",
    "\n",
    "# 启动优化过程\n",
    "opt_pos, opt_val = simulated_annealing_optimize()\n",
    "print(f\"Optimal Position: ({opt_pos[0]:.2f}, {opt_pos[1]:.2f})\")\n",
    "print(f\"Objective Value: {opt_val:.2f}\")"
   ]
  },
  {
   "cell_type": "code",
   "execution_count": null,
   "metadata": {},
   "outputs": [],
   "source": []
  }
 ],
 "metadata": {
  "kernelspec": {
   "display_name": "Python 3",
   "language": "python",
   "name": "python3"
  },
  "language_info": {
   "codemirror_mode": {
    "name": "ipython",
    "version": 3
   },
   "file_extension": ".py",
   "mimetype": "text/x-python",
   "name": "python",
   "nbconvert_exporter": "python",
   "pygments_lexer": "ipython3",
   "version": "3.9.6"
  }
 },
 "nbformat": 4,
 "nbformat_minor": 2
}
